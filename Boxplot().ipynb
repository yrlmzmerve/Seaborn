{
 "cells": [
  {
   "cell_type": "markdown",
   "metadata": {},
   "source": [
    "# BOXPLOT()"
   ]
  },
  {
   "cell_type": "code",
   "execution_count": 1,
   "metadata": {},
   "outputs": [],
   "source": [
    "import numpy as np\n",
    "import pandas as pd\n",
    "import matplotlib.pyplot as plt\n",
    "import matplotlib as mpl\n",
    "\n",
    "import seaborn as sns\n",
    "import warnings # uyarıları kaldırmak için\n",
    "\n",
    "%matplotlib inline"
   ]
  },
  {
   "cell_type": "code",
   "execution_count": 3,
   "metadata": {},
   "outputs": [
    {
     "data": {
      "text/html": [
       "<div>\n",
       "<style scoped>\n",
       "    .dataframe tbody tr th:only-of-type {\n",
       "        vertical-align: middle;\n",
       "    }\n",
       "\n",
       "    .dataframe tbody tr th {\n",
       "        vertical-align: top;\n",
       "    }\n",
       "\n",
       "    .dataframe thead th {\n",
       "        text-align: right;\n",
       "    }\n",
       "</style>\n",
       "<table border=\"1\" class=\"dataframe\">\n",
       "  <thead>\n",
       "    <tr style=\"text-align: right;\">\n",
       "      <th></th>\n",
       "      <th>Sıralama</th>\n",
       "      <th>Ülke</th>\n",
       "      <th>Nüfüs</th>\n",
       "      <th>Yıllık değişim oranı</th>\n",
       "      <th>Yıllık değişim</th>\n",
       "      <th>Kişi/km2</th>\n",
       "      <th>km2</th>\n",
       "      <th>Göçmen</th>\n",
       "      <th>Doğum oranı</th>\n",
       "      <th>Ortalama yaş</th>\n",
       "      <th>Şehirleşme oranı</th>\n",
       "      <th>Dünya nüfus oranı</th>\n",
       "    </tr>\n",
       "  </thead>\n",
       "  <tbody>\n",
       "    <tr>\n",
       "      <th>0</th>\n",
       "      <td>1.0</td>\n",
       "      <td>China</td>\n",
       "      <td>1.415046e+09</td>\n",
       "      <td>0.39</td>\n",
       "      <td>5528531.0</td>\n",
       "      <td>151.0</td>\n",
       "      <td>9388211.0</td>\n",
       "      <td>-33969.0</td>\n",
       "      <td>1.6</td>\n",
       "      <td>37.0</td>\n",
       "      <td>58 %</td>\n",
       "      <td>18.54 %</td>\n",
       "    </tr>\n",
       "    <tr>\n",
       "      <th>1</th>\n",
       "      <td>2.0</td>\n",
       "      <td>India</td>\n",
       "      <td>1.354052e+09</td>\n",
       "      <td>1.11</td>\n",
       "      <td>14871727.0</td>\n",
       "      <td>455.0</td>\n",
       "      <td>2973190.0</td>\n",
       "      <td>-515643.0</td>\n",
       "      <td>2.4</td>\n",
       "      <td>27.0</td>\n",
       "      <td>32 %</td>\n",
       "      <td>17.74 %</td>\n",
       "    </tr>\n",
       "  </tbody>\n",
       "</table>\n",
       "</div>"
      ],
      "text/plain": [
       "   Sıralama   Ülke         Nüfüs  Yıllık değişim oranı  Yıllık değişim  \\\n",
       "0       1.0  China  1.415046e+09                  0.39       5528531.0   \n",
       "1       2.0  India  1.354052e+09                  1.11      14871727.0   \n",
       "\n",
       "   Kişi/km2        km2    Göçmen  Doğum oranı  Ortalama yaş Şehirleşme oranı  \\\n",
       "0     151.0  9388211.0  -33969.0          1.6          37.0             58 %   \n",
       "1     455.0  2973190.0 -515643.0          2.4          27.0             32 %   \n",
       "\n",
       "  Dünya nüfus oranı  \n",
       "0           18.54 %  \n",
       "1           17.74 %  "
      ]
     },
     "execution_count": 3,
     "metadata": {},
     "output_type": "execute_result"
    }
   ],
   "source": [
    "n=pd.read_csv(\"dünyam.csv\")\n",
    "n.dropna(how=\"any\",inplace=True)\n",
    "n.head(2)"
   ]
  },
  {
   "cell_type": "code",
   "execution_count": 4,
   "metadata": {},
   "outputs": [
    {
     "data": {
      "text/html": [
       "<div>\n",
       "<style scoped>\n",
       "    .dataframe tbody tr th:only-of-type {\n",
       "        vertical-align: middle;\n",
       "    }\n",
       "\n",
       "    .dataframe tbody tr th {\n",
       "        vertical-align: top;\n",
       "    }\n",
       "\n",
       "    .dataframe thead th {\n",
       "        text-align: right;\n",
       "    }\n",
       "</style>\n",
       "<table border=\"1\" class=\"dataframe\">\n",
       "  <thead>\n",
       "    <tr style=\"text-align: right;\">\n",
       "      <th></th>\n",
       "      <th>ÜLKELER</th>\n",
       "      <th>MİLLİ GELİR</th>\n",
       "      <th>BÜYÜME</th>\n",
       "      <th>KİŞİ BAŞINA</th>\n",
       "      <th>KITA</th>\n",
       "    </tr>\n",
       "  </thead>\n",
       "  <tbody>\n",
       "    <tr>\n",
       "      <th>0</th>\n",
       "      <td>United States</td>\n",
       "      <td>20412.87</td>\n",
       "      <td>2.27</td>\n",
       "      <td>62152.0</td>\n",
       "      <td>North America</td>\n",
       "    </tr>\n",
       "    <tr>\n",
       "      <th>1</th>\n",
       "      <td>China</td>\n",
       "      <td>14092.51</td>\n",
       "      <td>6.86</td>\n",
       "      <td>10088.0</td>\n",
       "      <td>Asia</td>\n",
       "    </tr>\n",
       "  </tbody>\n",
       "</table>\n",
       "</div>"
      ],
      "text/plain": [
       "         ÜLKELER  MİLLİ GELİR  BÜYÜME  KİŞİ BAŞINA           KITA\n",
       "0  United States     20412.87    2.27      62152.0  North America\n",
       "1          China     14092.51    6.86      10088.0           Asia"
      ]
     },
     "execution_count": 4,
     "metadata": {},
     "output_type": "execute_result"
    }
   ],
   "source": [
    "e=pd.read_csv(\"50ülke.csv\")\n",
    "e.pop(\"2023\")\n",
    "e.pop(\"SIRALAMA\")\n",
    "e.pop(\"SIRALAMA.2\")\n",
    "e.head(2)"
   ]
  },
  {
   "cell_type": "markdown",
   "metadata": {},
   "source": [
    "### boxplot()"
   ]
  },
  {
   "cell_type": "code",
   "execution_count": 8,
   "metadata": {},
   "outputs": [
    {
     "data": {
      "image/png": "[encoded data removed]",
      "text/plain": [
       "<Figure size 432x288 with 1 Axes>"
      ]
     },
     "metadata": {
      "needs_background": "light"
     },
     "output_type": "display_data"
    }
   ],
   "source": [
    "sns.boxplot(x=\"KITA\", y=\"KİŞİ BAŞINA\", data=e, width=0.5)\n",
    "plt.tight_layout()"
   ]
  },
  {
   "cell_type": "code",
   "execution_count": 9,
   "metadata": {},
   "outputs": [
    {
     "data": {
      "image/png": "[encoded data removed]",
      "text/plain": [
       "<Figure size 432x288 with 1 Axes>"
      ]
     },
     "metadata": {
      "needs_background": "light"
     },
     "output_type": "display_data"
    }
   ],
   "source": [
    "sns.boxplot(x=\"KITA\", y=\"BÜYÜME\", data=e, palette=\"Set3\")\n",
    "plt.tight_layout()"
   ]
  },
  {
   "cell_type": "code",
   "execution_count": 11,
   "metadata": {},
   "outputs": [],
   "source": [
    "ev =pd.read_csv(\"evli.csv\")"
   ]
  },
  {
   "cell_type": "code",
   "execution_count": 15,
   "metadata": {},
   "outputs": [
    {
     "data": {
      "text/plain": [
       "<matplotlib.axes._subplots.AxesSubplot at 0x173a5e906d8>"
      ]
     },
     "execution_count": 15,
     "metadata": {},
     "output_type": "execute_result"
    },
    {
     "data": {
      "image/png": "[encoded data removed]",
      "text/plain": [
       "<Figure size 432x288 with 1 Axes>"
      ]
     },
     "metadata": {
      "needs_background": "light"
     },
     "output_type": "display_data"
    }
   ],
   "source": [
    "#evli olup olmamasını aylara göre kıyaslama yapar\n",
    "sns.boxplot(x=\"ay\", y=\"gelir\", data=ev, hue=\"evli\", )"
   ]
  },
  {
   "cell_type": "code",
   "execution_count": null,
   "metadata": {},
   "outputs": [],
   "source": []
  }
 ],
 "metadata": {
  "kernelspec": {
   "display_name": "Python 3",
   "language": "python",
   "name": "python3"
  },
  "language_info": {
   "codemirror_mode": {
    "name": "ipython",
    "version": 3
   },
   "file_extension": ".py",
   "mimetype": "text/x-python",
   "name": "python",
   "nbconvert_exporter": "python",
   "pygments_lexer": "ipython3",
   "version": "3.7.3"
  }
 },
 "nbformat": 4,
 "nbformat_minor": 2
}
