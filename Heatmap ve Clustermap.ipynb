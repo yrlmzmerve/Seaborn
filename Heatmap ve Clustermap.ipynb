{
 "cells": [
  {
   "cell_type": "markdown",
   "metadata": {},
   "source": [
    "# Heatmap() ve Clustermap()"
   ]
  },
  {
   "cell_type": "code",
   "execution_count": 2,
   "metadata": {},
   "outputs": [],
   "source": [
    "import numpy as np\n",
    "import pandas as pd\n",
    "import matplotlib.pyplot as plt\n",
    "import matplotlib as mpl\n",
    "\n",
    "import seaborn as sns\n",
    "import warnings # uyarıları kaldırmak için\n",
    "\n",
    "%matplotlib inline"
   ]
  },
  {
   "cell_type": "markdown",
   "metadata": {},
   "source": [
    "## Heatmap()"
   ]
  },
  {
   "cell_type": "code",
   "execution_count": 8,
   "metadata": {},
   "outputs": [
    {
     "data": {
      "text/html": [
       "<div>\n",
       "<style scoped>\n",
       "    .dataframe tbody tr th:only-of-type {\n",
       "        vertical-align: middle;\n",
       "    }\n",
       "\n",
       "    .dataframe tbody tr th {\n",
       "        vertical-align: top;\n",
       "    }\n",
       "\n",
       "    .dataframe thead th {\n",
       "        text-align: right;\n",
       "    }\n",
       "</style>\n",
       "<table border=\"1\" class=\"dataframe\">\n",
       "  <thead>\n",
       "    <tr style=\"text-align: right;\">\n",
       "      <th></th>\n",
       "      <th>Unnamed: 0</th>\n",
       "      <th>yıl</th>\n",
       "      <th>ay</th>\n",
       "      <th>enflasyon</th>\n",
       "    </tr>\n",
       "  </thead>\n",
       "  <tbody>\n",
       "    <tr>\n",
       "      <th>0</th>\n",
       "      <td>0</td>\n",
       "      <td>2008</td>\n",
       "      <td>ocak</td>\n",
       "      <td>8.17</td>\n",
       "    </tr>\n",
       "    <tr>\n",
       "      <th>1</th>\n",
       "      <td>1</td>\n",
       "      <td>2008</td>\n",
       "      <td>şubat</td>\n",
       "      <td>9.10</td>\n",
       "    </tr>\n",
       "    <tr>\n",
       "      <th>2</th>\n",
       "      <td>2</td>\n",
       "      <td>2008</td>\n",
       "      <td>mart</td>\n",
       "      <td>9.15</td>\n",
       "    </tr>\n",
       "  </tbody>\n",
       "</table>\n",
       "</div>"
      ],
      "text/plain": [
       "   Unnamed: 0   yıl     ay  enflasyon\n",
       "0           0  2008   ocak       8.17\n",
       "1           1  2008  şubat       9.10\n",
       "2           2  2008   mart       9.15"
      ]
     },
     "execution_count": 8,
     "metadata": {},
     "output_type": "execute_result"
    }
   ],
   "source": [
    "enf=pd.read_csv(\"tüfe.csv\")\n",
    "enf.head(3)\n",
    "\n",
    "# Heatmap kullanmak için pivot table'a çevirmek gerekir"
   ]
  },
  {
   "cell_type": "markdown",
   "metadata": {},
   "source": [
    "#### pivot table"
   ]
  },
  {
   "cell_type": "code",
   "execution_count": 9,
   "metadata": {},
   "outputs": [
    {
     "data": {
      "text/html": [
       "<div>\n",
       "<style scoped>\n",
       "    .dataframe tbody tr th:only-of-type {\n",
       "        vertical-align: middle;\n",
       "    }\n",
       "\n",
       "    .dataframe tbody tr th {\n",
       "        vertical-align: top;\n",
       "    }\n",
       "\n",
       "    .dataframe thead th {\n",
       "        text-align: right;\n",
       "    }\n",
       "</style>\n",
       "<table border=\"1\" class=\"dataframe\">\n",
       "  <thead>\n",
       "    <tr style=\"text-align: right;\">\n",
       "      <th>yıl</th>\n",
       "      <th>2008</th>\n",
       "      <th>2009</th>\n",
       "      <th>2010</th>\n",
       "      <th>2011</th>\n",
       "      <th>2012</th>\n",
       "      <th>2013</th>\n",
       "      <th>2014</th>\n",
       "      <th>2015</th>\n",
       "      <th>2016</th>\n",
       "      <th>2017</th>\n",
       "    </tr>\n",
       "    <tr>\n",
       "      <th>ay</th>\n",
       "      <th></th>\n",
       "      <th></th>\n",
       "      <th></th>\n",
       "      <th></th>\n",
       "      <th></th>\n",
       "      <th></th>\n",
       "      <th></th>\n",
       "      <th></th>\n",
       "      <th></th>\n",
       "      <th></th>\n",
       "    </tr>\n",
       "  </thead>\n",
       "  <tbody>\n",
       "    <tr>\n",
       "      <th>aralık</th>\n",
       "      <td>10.06</td>\n",
       "      <td>6.53</td>\n",
       "      <td>6.40</td>\n",
       "      <td>10.45</td>\n",
       "      <td>6.16</td>\n",
       "      <td>7.40</td>\n",
       "      <td>8.17</td>\n",
       "      <td>8.81</td>\n",
       "      <td>8.53</td>\n",
       "      <td>11.92</td>\n",
       "    </tr>\n",
       "    <tr>\n",
       "      <th>ağustos</th>\n",
       "      <td>11.77</td>\n",
       "      <td>5.33</td>\n",
       "      <td>8.33</td>\n",
       "      <td>6.65</td>\n",
       "      <td>8.88</td>\n",
       "      <td>8.17</td>\n",
       "      <td>9.54</td>\n",
       "      <td>7.14</td>\n",
       "      <td>8.79</td>\n",
       "      <td>10.68</td>\n",
       "    </tr>\n",
       "    <tr>\n",
       "      <th>ekim</th>\n",
       "      <td>11.99</td>\n",
       "      <td>5.08</td>\n",
       "      <td>8.62</td>\n",
       "      <td>7.66</td>\n",
       "      <td>7.80</td>\n",
       "      <td>7.71</td>\n",
       "      <td>8.96</td>\n",
       "      <td>7.58</td>\n",
       "      <td>7.16</td>\n",
       "      <td>11.90</td>\n",
       "    </tr>\n",
       "    <tr>\n",
       "      <th>eylül</th>\n",
       "      <td>11.13</td>\n",
       "      <td>5.27</td>\n",
       "      <td>9.24</td>\n",
       "      <td>6.15</td>\n",
       "      <td>9.19</td>\n",
       "      <td>7.88</td>\n",
       "      <td>8.86</td>\n",
       "      <td>7.95</td>\n",
       "      <td>7.28</td>\n",
       "      <td>7.29</td>\n",
       "    </tr>\n",
       "    <tr>\n",
       "      <th>haziran</th>\n",
       "      <td>10.61</td>\n",
       "      <td>5.73</td>\n",
       "      <td>8.37</td>\n",
       "      <td>6.24</td>\n",
       "      <td>8.87</td>\n",
       "      <td>8.30</td>\n",
       "      <td>9.16</td>\n",
       "      <td>7.20</td>\n",
       "      <td>7.64</td>\n",
       "      <td>10.90</td>\n",
       "    </tr>\n",
       "    <tr>\n",
       "      <th>kasım</th>\n",
       "      <td>10.76</td>\n",
       "      <td>5.53</td>\n",
       "      <td>7.29</td>\n",
       "      <td>9.48</td>\n",
       "      <td>6.37</td>\n",
       "      <td>7.32</td>\n",
       "      <td>9.15</td>\n",
       "      <td>8.10</td>\n",
       "      <td>7.00</td>\n",
       "      <td>12.98</td>\n",
       "    </tr>\n",
       "    <tr>\n",
       "      <th>mart</th>\n",
       "      <td>9.15</td>\n",
       "      <td>7.89</td>\n",
       "      <td>9.56</td>\n",
       "      <td>3.99</td>\n",
       "      <td>10.43</td>\n",
       "      <td>7.29</td>\n",
       "      <td>8.39</td>\n",
       "      <td>7.61</td>\n",
       "      <td>7.46</td>\n",
       "      <td>11.29</td>\n",
       "    </tr>\n",
       "    <tr>\n",
       "      <th>mayıs</th>\n",
       "      <td>10.74</td>\n",
       "      <td>5.24</td>\n",
       "      <td>9.10</td>\n",
       "      <td>7.17</td>\n",
       "      <td>8.28</td>\n",
       "      <td>6.51</td>\n",
       "      <td>9.66</td>\n",
       "      <td>8.09</td>\n",
       "      <td>6.58</td>\n",
       "      <td>11.72</td>\n",
       "    </tr>\n",
       "    <tr>\n",
       "      <th>nisan</th>\n",
       "      <td>9.66</td>\n",
       "      <td>6.13</td>\n",
       "      <td>10.19</td>\n",
       "      <td>4.26</td>\n",
       "      <td>11.14</td>\n",
       "      <td>6.13</td>\n",
       "      <td>9.38</td>\n",
       "      <td>7.91</td>\n",
       "      <td>6.57</td>\n",
       "      <td>11.87</td>\n",
       "    </tr>\n",
       "    <tr>\n",
       "      <th>ocak</th>\n",
       "      <td>8.17</td>\n",
       "      <td>9.50</td>\n",
       "      <td>8.19</td>\n",
       "      <td>4.90</td>\n",
       "      <td>10.61</td>\n",
       "      <td>7.31</td>\n",
       "      <td>7.75</td>\n",
       "      <td>7.24</td>\n",
       "      <td>9.58</td>\n",
       "      <td>9.22</td>\n",
       "    </tr>\n",
       "    <tr>\n",
       "      <th>temmuz</th>\n",
       "      <td>12.06</td>\n",
       "      <td>5.39</td>\n",
       "      <td>7.58</td>\n",
       "      <td>6.31</td>\n",
       "      <td>9.07</td>\n",
       "      <td>8.88</td>\n",
       "      <td>9.32</td>\n",
       "      <td>6.81</td>\n",
       "      <td>8.05</td>\n",
       "      <td>9.79</td>\n",
       "    </tr>\n",
       "    <tr>\n",
       "      <th>şubat</th>\n",
       "      <td>9.10</td>\n",
       "      <td>7.73</td>\n",
       "      <td>10.13</td>\n",
       "      <td>4.16</td>\n",
       "      <td>10.43</td>\n",
       "      <td>7.03</td>\n",
       "      <td>7.89</td>\n",
       "      <td>7.55</td>\n",
       "      <td>8.78</td>\n",
       "      <td>10.13</td>\n",
       "    </tr>\n",
       "  </tbody>\n",
       "</table>\n",
       "</div>"
      ],
      "text/plain": [
       "yıl       2008  2009   2010   2011   2012  2013  2014  2015  2016   2017\n",
       "ay                                                                      \n",
       "aralık   10.06  6.53   6.40  10.45   6.16  7.40  8.17  8.81  8.53  11.92\n",
       "ağustos  11.77  5.33   8.33   6.65   8.88  8.17  9.54  7.14  8.79  10.68\n",
       "ekim     11.99  5.08   8.62   7.66   7.80  7.71  8.96  7.58  7.16  11.90\n",
       "eylül    11.13  5.27   9.24   6.15   9.19  7.88  8.86  7.95  7.28   7.29\n",
       "haziran  10.61  5.73   8.37   6.24   8.87  8.30  9.16  7.20  7.64  10.90\n",
       "kasım    10.76  5.53   7.29   9.48   6.37  7.32  9.15  8.10  7.00  12.98\n",
       "mart      9.15  7.89   9.56   3.99  10.43  7.29  8.39  7.61  7.46  11.29\n",
       "mayıs    10.74  5.24   9.10   7.17   8.28  6.51  9.66  8.09  6.58  11.72\n",
       "nisan     9.66  6.13  10.19   4.26  11.14  6.13  9.38  7.91  6.57  11.87\n",
       "ocak      8.17  9.50   8.19   4.90  10.61  7.31  7.75  7.24  9.58   9.22\n",
       "temmuz   12.06  5.39   7.58   6.31   9.07  8.88  9.32  6.81  8.05   9.79\n",
       "şubat     9.10  7.73  10.13   4.16  10.43  7.03  7.89  7.55  8.78  10.13"
      ]
     },
     "execution_count": 9,
     "metadata": {},
     "output_type": "execute_result"
    }
   ],
   "source": [
    "# enfl=enf.pivot_table(index=\"ay\",columns=\"yıl\",values=\"enflasyon\")\n",
    "enfl"
   ]
  },
  {
   "cell_type": "code",
   "execution_count": 10,
   "metadata": {},
   "outputs": [
    {
     "data": {
      "text/plain": [
       "<matplotlib.axes._subplots.AxesSubplot at 0x2740c88eac8>"
      ]
     },
     "execution_count": 10,
     "metadata": {},
     "output_type": "execute_result"
    },
    {
     "data": {
      "image/png": "[encoded data removed]",
      "text/plain": [
       "<Figure size 432x288 with 2 Axes>"
      ]
     },
     "metadata": {
      "needs_background": "light"
     },
     "output_type": "display_data"
    }
   ],
   "source": [
    "# annot = True : kutu içlerine sayılar girer\n",
    "# linecolor=\"black\" : kutular arasına çizgi koyma\n",
    "# lw = 0.5 : linewidth\n",
    "sns.heatmap(enfl,annot=True,linecolor=\"black\",lw=0.5)"
   ]
  },
  {
   "cell_type": "markdown",
   "metadata": {},
   "source": [
    "## Clustermap"
   ]
  },
  {
   "cell_type": "code",
   "execution_count": 12,
   "metadata": {},
   "outputs": [
    {
     "data": {
      "text/plain": [
       "<seaborn.matrix.ClusterGrid at 0x2740f46a828>"
      ]
     },
     "execution_count": 12,
     "metadata": {},
     "output_type": "execute_result"
    },
    {
     "data": {
      "image/png": "[encoded data removed]",
      "text/plain": [
       "<Figure size 432x432 with 4 Axes>"
      ]
     },
     "metadata": {
      "needs_background": "light"
     },
     "output_type": "display_data"
    }
   ],
   "source": [
    "# kümeleştirme\n",
    "# figsize=(6,6) büyüklüğünü ayarlama\n",
    "sns.clustermap(enfl,figsize=(6,6))"
   ]
  },
  {
   "cell_type": "markdown",
   "metadata": {},
   "source": [
    "### Cluster map benzer verileri yan yana getirir örneğin 2008-2017 gibi"
   ]
  },
  {
   "cell_type": "code",
   "execution_count": null,
   "metadata": {},
   "outputs": [],
   "source": []
  }
 ],
 "metadata": {
  "kernelspec": {
   "display_name": "Python 3",
   "language": "python",
   "name": "python3"
  },
  "language_info": {
   "codemirror_mode": {
    "name": "ipython",
    "version": 3
   },
   "file_extension": ".py",
   "mimetype": "text/x-python",
   "name": "python",
   "nbconvert_exporter": "python",
   "pygments_lexer": "ipython3",
   "version": "3.7.3"
  }
 },
 "nbformat": 4,
 "nbformat_minor": 2
}
